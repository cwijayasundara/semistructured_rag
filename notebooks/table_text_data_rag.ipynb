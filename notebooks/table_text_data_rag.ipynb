{
 "cells": [
  {
   "cell_type": "code",
   "execution_count": 1,
   "metadata": {},
   "outputs": [
    {
     "name": "stdout",
     "output_type": "stream",
     "text": [
      "zsh:1: no matches found: unstructured[html]\n",
      "Note: you may need to restart the kernel to use updated packages.\n"
     ]
    }
   ],
   "source": [
    "%pip install python-dotenv langchain-openai langchain_community chromadb unstructured[html] langchain_hub"
   ]
  },
  {
   "cell_type": "code",
   "execution_count": 1,
   "metadata": {},
   "outputs": [],
   "source": [
    "import warnings\n",
    "from unstructured.staging.base import dict_to_elements\n",
    "from unstructured.partition.html import partition_html\n",
    "from dotenv import load_dotenv\n",
    "\n",
    "warnings.filterwarnings('ignore')\n",
    "\n",
    "_ = load_dotenv()"
   ]
  },
  {
   "cell_type": "code",
   "execution_count": 3,
   "metadata": {},
   "outputs": [],
   "source": [
    "from unstructured.staging.base import dict_to_elements\n",
    "from unstructured.partition.html import partition_html"
   ]
  },
  {
   "cell_type": "markdown",
   "metadata": {},
   "source": [
    "Extract tables as text"
   ]
  },
  {
   "cell_type": "code",
   "execution_count": 4,
   "metadata": {},
   "outputs": [],
   "source": [
    "file_path = \"../docs/\"\n",
    "\n",
    "raw_html_elements = partition_html(\n",
    "    filename=file_path + \"nvidia_financial_results_q1_fiscal_2025.html\",\n",
    "    )"
   ]
  },
  {
   "cell_type": "code",
   "execution_count": 9,
   "metadata": {},
   "outputs": [],
   "source": [
    "tables = [el for el in raw_html_elements if el.category == \"Table\"]"
   ]
  },
  {
   "cell_type": "code",
   "execution_count": 6,
   "metadata": {},
   "outputs": [
    {
     "data": {
      "text/html": [
       "<table><tr><td>NVIDIA CORPORATION</td><td></td></tr><tr><td>CONDENSED CONSOLIDATED BALANCE SHEETS</td><td></td></tr><tr><td>(In millions)</td><td></td></tr><tr><td>(Unaudited)</td><td></td></tr><tr><td></td><td></td><td></td><td></td><td></td><td></td><td></td><td></td></tr><tr><td></td><td></td><td></td><td></td><td></td><td></td><td></td><td></td></tr><tr><td></td><td></td><td></td><td></td><td>April 28,</td><td></td><td>January 28,</td><td></td></tr><tr><td></td><td></td><td></td><td></td><td>2024</td><td></td><td>2024</td><td></td></tr><tr><td>ASSETS</td><td></td><td></td><td></td><td></td><td></td></tr><tr><td></td><td></td><td></td><td></td><td></td><td></td><td></td><td></td></tr><tr><td>Current assets:</td><td></td><td></td><td></td><td></td><td></td></tr><tr><td></td><td>Cash, cash equivalents and marketable securities</td><td></td><td>$</td><td>31,438</td><td></td><td>$</td><td>25,984</td><td></td></tr><tr><td></td><td>Accounts receivable, net</td><td></td><td></td><td>12,365</td><td></td><td></td><td>9,999</td><td></td></tr><tr><td></td><td>Inventories</td><td></td><td></td><td>5,864</td><td></td><td></td><td>5,282</td><td></td></tr><tr><td></td><td>Prepaid expenses and other current assets</td><td></td><td></td><td>4,062</td><td></td><td></td><td>3,080</td><td></td></tr><tr><td></td><td></td><td>Total current assets</td><td></td><td></td><td>53,729</td><td></td><td></td><td>44,345</td><td></td></tr><tr><td></td><td></td><td></td><td></td><td></td><td></td><td></td><td></td></tr><tr><td>Property and equipment, net</td><td></td><td></td><td>4,006</td><td></td><td></td><td>3,914</td><td></td></tr><tr><td>Operating lease assets</td><td></td><td></td><td>1,532</td><td></td><td></td><td>1,346</td><td></td></tr><tr><td>Goodwill</td><td></td><td></td><td>4,453</td><td></td><td></td><td>4,430</td><td></td></tr><tr><td>Intangible assets, net</td><td></td><td></td><td>986</td><td></td><td></td><td>1,112</td><td></td></tr><tr><td>Deferred income tax assets</td><td></td><td></td><td>7,798</td><td></td><td></td><td>6,081</td><td></td></tr><tr><td>Other assets</td><td></td><td></td><td>4,568</td><td></td><td></td><td>4,500</td><td></td></tr><tr><td></td><td></td><td>Total assets</td><td></td><td>$</td><td>77,072</td><td></td><td>$</td><td>65,728</td><td></td></tr><tr><td></td><td></td><td></td><td></td><td></td><td></td><td></td><td></td></tr><tr><td>LIABILITIES AND SHAREHOLDERS&#x27; EQUITY</td><td></td></tr><tr><td></td><td></td><td></td><td></td><td></td><td></td><td></td><td></td></tr><tr><td>Current liabilities:</td><td></td><td></td><td></td><td></td><td></td></tr><tr><td></td><td>Accounts payable</td><td></td><td>$</td><td>2,715</td><td></td><td>$</td><td>2,699</td><td></td></tr><tr><td></td><td>Accrued and other current liabilities</td><td></td><td></td><td>11,258</td><td></td><td></td><td>6,682</td><td></td></tr><tr><td></td><td>Short-term debt</td><td></td><td></td><td>1,250</td><td></td><td></td><td>1,250</td><td></td></tr><tr><td></td><td></td><td>Total current liabilities</td><td></td><td></td><td>15,223</td><td></td><td></td><td>10,631</td><td></td></tr><tr><td></td><td></td><td></td><td></td><td></td><td></td><td></td><td></td></tr><tr><td>Long-term debt</td><td></td><td></td><td>8,460</td><td></td><td></td><td>8,459</td><td></td></tr><tr><td>Long-term operating lease liabilities</td><td></td><td></td><td>1,281</td><td></td><td></td><td>1,119</td><td></td></tr><tr><td>Other long-term liabilities</td><td></td><td></td><td>2,966</td><td></td><td></td><td>2,541</td><td></td></tr><tr><td></td><td></td><td>Total liabilities</td><td></td><td></td><td>27,930</td><td></td><td></td><td>22,750</td><td></td></tr><tr><td></td><td></td><td></td><td></td><td></td><td></td><td></td><td></td></tr><tr><td>Shareholders&#x27; equity</td><td></td><td></td><td>49,142</td><td></td><td></td><td>42,978</td><td></td></tr><tr><td></td><td></td><td>Total liabilities and shareholders&#x27; equity</td><td></td><td>$</td><td>77,072</td><td></td><td>$</td><td>65,728</td><td></td></tr><tr><td></td><td></td><td></td><td></td><td></td><td></td><td></td><td></td></tr></table>"
      ],
      "text/plain": [
       "<IPython.core.display.HTML object>"
      ]
     },
     "execution_count": 6,
     "metadata": {},
     "output_type": "execute_result"
    }
   ],
   "source": [
    "from io import StringIO \n",
    "from lxml import etree\n",
    "\n",
    "table_html = tables[3].metadata.text_as_html\n",
    "\n",
    "parser = etree.XMLParser(remove_blank_text=True)\n",
    "file_obj = StringIO(table_html)\n",
    "tree = etree.parse(file_obj, parser)\n",
    "from IPython.core.display import HTML\n",
    "HTML(table_html)"
   ]
  },
  {
   "cell_type": "code",
   "execution_count": 7,
   "metadata": {},
   "outputs": [
    {
     "name": "stdout",
     "output_type": "stream",
     "text": [
      "<table><tr><td>GAAP</td></tr><tr><td>($ in millions, except earnings per share)</td><td>Q1 FY25</td><td>Q4 FY24</td><td>Q1 FY24</td><td>Q/Q</td><td>Y/Y</td></tr><tr><td>Revenue</td><td>$26,044</td><td>$22,103</td><td>$7,192</td><td>Up 18%</td><td>Up 262%</td></tr><tr><td>Gross margin</td><td>78.4%</td><td>76.0%</td><td>64.6%</td><td>Up 2.4 pts</td><td>Up 13.8 pts</td></tr><tr><td>Operating expenses</td><td>$3,497</td><td>$3,176</td><td>$2,508</td><td>Up 10%</td><td>Up 39%</td></tr><tr><td>Operating income</td><td>$16,909</td><td>$13,615</td><td>$2,140</td><td>Up 24%</td><td>Up 690%</td></tr><tr><td>Net income</td><td>$14,881</td><td>$12,285</td><td>$2,043</td><td>Up 21%</td><td>Up 628%</td></tr><tr><td>Diluted earnings per share</td><td>$5.98</td><td>$4.93</td><td>$0.82</td><td>Up 21%</td><td>Up 629%</td></tr><tr><td></td><td></td><td></td><td></td><td></td><td></td></tr></table>\n",
      "<table><tr><td>Non-GAAP</td></tr><tr><td>($ in millions, except earnings per share)</td><td>Q1 FY25</td><td>Q4 FY24</td><td>Q1 FY24</td><td>Q/Q</td><td>Y/Y</td></tr><tr><td>Revenue</td><td>$26,044</td><td>$22,103</td><td>$7,192</td><td>Up 18%</td><td>Up 262%</td></tr><tr><td>Gross margin</td><td>78.9%</td><td>76.7%</td><td>66.8%</td><td>Up 2.2 pts</td><td>Up 12.1 pts</td></tr><tr><td>Operating expenses</td><td>$2,501</td><td>$2,210</td><td>$1,750</td><td>Up 13%</td><td>Up 43%</td></tr><tr><td>Operating income</td><td>$18,059</td><td>$14,749</td><td>$3,052</td><td>Up 22%</td><td>Up 492%</td></tr><tr><td>Net income</td><td>$15,238</td><td>$12,839</td><td>$2,713</td><td>Up 19%</td><td>Up 462%</td></tr><tr><td>Diluted earnings per share</td><td>$6.12</td><td>$5.16</td><td>$1.09</td><td>Up 19%</td><td>Up 461%</td></tr><tr><td></td><td></td><td></td><td></td><td></td><td></td></tr></table>\n",
      "<table><tr><td></td></tr><tr><td>NVIDIA CORPORATION</td></tr><tr><td>CONDENSED CONSOLIDATED STATEMENTS OF INCOME</td></tr><tr><td>(In millions, except per share data)</td></tr><tr><td>(Unaudited)</td></tr><tr><td></td><td></td><td></td><td></td><td></td><td></td></tr><tr><td></td><td></td><td></td><td></td><td></td><td></td></tr><tr><td></td><td></td><td></td><td>Three Months Ended</td></tr><tr><td></td><td></td><td></td><td>April 28,</td><td></td><td>April 30,</td></tr><tr><td></td><td></td><td></td><td>2024</td><td></td><td>2023</td></tr><tr><td></td><td></td><td></td><td></td><td></td><td></td></tr><tr><td>Revenue</td><td>$</td><td>26,044</td><td></td><td></td><td>$</td><td>7,192</td><td></td></tr><tr><td>Cost of revenue</td><td></td><td>5,638</td><td></td><td></td><td></td><td>2,544</td><td></td></tr><tr><td>Gross profit</td><td></td><td>20,406</td><td></td><td></td><td></td><td>4,648</td><td></td></tr><tr><td></td><td></td><td></td><td></td><td></td><td></td></tr><tr><td>Operating expenses</td><td></td><td></td><td></td></tr><tr><td></td><td>Research and development</td><td></td><td>2,720</td><td></td><td></td><td></td><td>1,875</td><td></td></tr><tr><td></td><td>Sales, general and administrative</td><td></td><td>777</td><td></td><td></td><td></td><td>633</td><td></td></tr><tr><td></td><td></td><td>Total operating expenses</td><td></td><td>3,497</td><td></td><td></td><td></td><td>2,508</td><td></td></tr><tr><td></td><td></td><td></td><td></td><td></td><td></td></tr><tr><td>Operating Income</td><td></td><td>16,909</td><td></td><td></td><td></td><td>2,140</td><td></td></tr><tr><td></td><td>Interest income</td><td></td><td>359</td><td></td><td></td><td></td><td>150</td><td></td></tr><tr><td></td><td>Interest expense</td><td></td><td>(64</td><td>)</td><td></td><td></td><td>(66</td><td>)</td></tr><tr><td></td><td>Other, net</td><td></td><td>75</td><td></td><td></td><td></td><td>(15</td><td>)</td></tr><tr><td></td><td></td><td>Other income (expense), net</td><td></td><td>370</td><td></td><td></td><td></td><td>69</td><td></td></tr><tr><td></td><td></td><td></td><td></td><td></td><td></td></tr><tr><td>Income before income tax</td><td></td><td>17,279</td><td></td><td></td><td></td><td>2,209</td><td></td></tr><tr><td>Income tax expense</td><td></td><td>2,398</td><td></td><td></td><td></td><td>166</td><td></td></tr><tr><td>Net income</td><td>$</td><td>14,881</td><td></td><td></td><td>$</td><td>2,043</td><td></td></tr><tr><td></td><td></td><td></td><td></td><td></td><td></td></tr><tr><td>Net income per share:</td><td></td><td></td><td></td></tr><tr><td></td><td>Basic</td><td>$</td><td>6.04</td><td></td><td></td><td>$</td><td>0.83</td><td></td></tr><tr><td></td><td>Diluted</td><td>$</td><td>5.98</td><td></td><td></td><td>$</td><td>0.82</td><td></td></tr><tr><td></td><td></td><td></td><td></td><td></td><td></td></tr><tr><td>Weighted average shares used in per share computation:</td><td></td><td></td><td></td></tr><tr><td></td><td>Basic</td><td></td><td>2,462</td><td></td><td></td><td></td><td>2,470</td><td></td></tr><tr><td></td><td>Diluted</td><td></td><td>2,489</td><td></td><td></td><td></td><td>2,490</td><td></td></tr><tr><td></td><td></td><td></td><td></td><td></td><td></td></tr></table>\n",
      "<table><tr><td>NVIDIA CORPORATION</td><td></td></tr><tr><td>CONDENSED CONSOLIDATED BALANCE SHEETS</td><td></td></tr><tr><td>(In millions)</td><td></td></tr><tr><td>(Unaudited)</td><td></td></tr><tr><td></td><td></td><td></td><td></td><td></td><td></td><td></td><td></td></tr><tr><td></td><td></td><td></td><td></td><td></td><td></td><td></td><td></td></tr><tr><td></td><td></td><td></td><td></td><td>April 28,</td><td></td><td>January 28,</td><td></td></tr><tr><td></td><td></td><td></td><td></td><td>2024</td><td></td><td>2024</td><td></td></tr><tr><td>ASSETS</td><td></td><td></td><td></td><td></td><td></td></tr><tr><td></td><td></td><td></td><td></td><td></td><td></td><td></td><td></td></tr><tr><td>Current assets:</td><td></td><td></td><td></td><td></td><td></td></tr><tr><td></td><td>Cash, cash equivalents and marketable securities</td><td></td><td>$</td><td>31,438</td><td></td><td>$</td><td>25,984</td><td></td></tr><tr><td></td><td>Accounts receivable, net</td><td></td><td></td><td>12,365</td><td></td><td></td><td>9,999</td><td></td></tr><tr><td></td><td>Inventories</td><td></td><td></td><td>5,864</td><td></td><td></td><td>5,282</td><td></td></tr><tr><td></td><td>Prepaid expenses and other current assets</td><td></td><td></td><td>4,062</td><td></td><td></td><td>3,080</td><td></td></tr><tr><td></td><td></td><td>Total current assets</td><td></td><td></td><td>53,729</td><td></td><td></td><td>44,345</td><td></td></tr><tr><td></td><td></td><td></td><td></td><td></td><td></td><td></td><td></td></tr><tr><td>Property and equipment, net</td><td></td><td></td><td>4,006</td><td></td><td></td><td>3,914</td><td></td></tr><tr><td>Operating lease assets</td><td></td><td></td><td>1,532</td><td></td><td></td><td>1,346</td><td></td></tr><tr><td>Goodwill</td><td></td><td></td><td>4,453</td><td></td><td></td><td>4,430</td><td></td></tr><tr><td>Intangible assets, net</td><td></td><td></td><td>986</td><td></td><td></td><td>1,112</td><td></td></tr><tr><td>Deferred income tax assets</td><td></td><td></td><td>7,798</td><td></td><td></td><td>6,081</td><td></td></tr><tr><td>Other assets</td><td></td><td></td><td>4,568</td><td></td><td></td><td>4,500</td><td></td></tr><tr><td></td><td></td><td>Total assets</td><td></td><td>$</td><td>77,072</td><td></td><td>$</td><td>65,728</td><td></td></tr><tr><td></td><td></td><td></td><td></td><td></td><td></td><td></td><td></td></tr><tr><td>LIABILITIES AND SHAREHOLDERS&#x27; EQUITY</td><td></td></tr><tr><td></td><td></td><td></td><td></td><td></td><td></td><td></td><td></td></tr><tr><td>Current liabilities:</td><td></td><td></td><td></td><td></td><td></td></tr><tr><td></td><td>Accounts payable</td><td></td><td>$</td><td>2,715</td><td></td><td>$</td><td>2,699</td><td></td></tr><tr><td></td><td>Accrued and other current liabilities</td><td></td><td></td><td>11,258</td><td></td><td></td><td>6,682</td><td></td></tr><tr><td></td><td>Short-term debt</td><td></td><td></td><td>1,250</td><td></td><td></td><td>1,250</td><td></td></tr><tr><td></td><td></td><td>Total current liabilities</td><td></td><td></td><td>15,223</td><td></td><td></td><td>10,631</td><td></td></tr><tr><td></td><td></td><td></td><td></td><td></td><td></td><td></td><td></td></tr><tr><td>Long-term debt</td><td></td><td></td><td>8,460</td><td></td><td></td><td>8,459</td><td></td></tr><tr><td>Long-term operating lease liabilities</td><td></td><td></td><td>1,281</td><td></td><td></td><td>1,119</td><td></td></tr><tr><td>Other long-term liabilities</td><td></td><td></td><td>2,966</td><td></td><td></td><td>2,541</td><td></td></tr><tr><td></td><td></td><td>Total liabilities</td><td></td><td></td><td>27,930</td><td></td><td></td><td>22,750</td><td></td></tr><tr><td></td><td></td><td></td><td></td><td></td><td></td><td></td><td></td></tr><tr><td>Shareholders&#x27; equity</td><td></td><td></td><td>49,142</td><td></td><td></td><td>42,978</td><td></td></tr><tr><td></td><td></td><td>Total liabilities and shareholders&#x27; equity</td><td></td><td>$</td><td>77,072</td><td></td><td>$</td><td>65,728</td><td></td></tr><tr><td></td><td></td><td></td><td></td><td></td><td></td><td></td><td></td></tr></table>\n",
      "<table><tr><td>NVIDIA CORPORATION</td></tr><tr><td>CONDENSED CONSOLIDATED STATEMENTS OF CASH FLOWS</td></tr><tr><td>(In millions)</td></tr><tr><td>(Unaudited)</td></tr><tr><td></td><td></td><td></td><td></td><td></td></tr><tr><td></td><td></td><td>Three Months Ended</td></tr><tr><td></td><td></td><td>April 28,</td><td></td><td>April 30,</td></tr><tr><td></td><td></td><td>2024</td><td></td><td>2023</td></tr><tr><td>Cash flows from operating activities:</td><td></td><td></td><td></td></tr><tr><td>Net income</td><td>$</td><td>14,881</td><td></td><td></td><td>$</td><td>2,043</td><td></td></tr><tr><td>Adjustments to reconcile net income to net cash provided by operating activities:</td><td></td><td></td><td></td></tr><tr><td></td><td>Stock-based compensation expense</td><td></td><td>1,011</td><td></td><td></td><td></td><td>735</td><td></td></tr><tr><td></td><td>Depreciation and amortization</td><td></td><td>410</td><td></td><td></td><td></td><td>384</td><td></td></tr><tr><td></td><td>Realized and unrealized (gains) losses on investments in non-affiliated entities, net</td><td></td><td>(69</td><td>)</td><td></td><td></td><td>14</td><td></td></tr><tr><td></td><td>Deferred income taxes</td><td></td><td>(1,577</td><td>)</td><td></td><td></td><td>(1,135</td><td>)</td></tr><tr><td></td><td>Other</td><td></td><td>(145</td><td>)</td><td></td><td></td><td>(34</td><td>)</td></tr><tr><td>Changes in operating assets and liabilities, net of acquisitions:</td><td></td><td></td><td></td></tr><tr><td></td><td>Accounts receivable</td><td></td><td>(2,366</td><td>)</td><td></td><td></td><td>(252</td><td>)</td></tr><tr><td></td><td>Inventories</td><td></td><td>(577</td><td>)</td><td></td><td></td><td>566</td><td></td></tr><tr><td></td><td>Prepaid expenses and other assets</td><td></td><td>(726</td><td>)</td><td></td><td></td><td>(215</td><td>)</td></tr><tr><td></td><td>Accounts payable</td><td></td><td>(22</td><td>)</td><td></td><td></td><td>11</td><td></td></tr><tr><td></td><td>Accrued and other current liabilities</td><td></td><td>4,202</td><td></td><td></td><td></td><td>689</td><td></td></tr><tr><td></td><td>Other long-term liabilities</td><td></td><td>323</td><td></td><td></td><td></td><td>105</td><td></td></tr><tr><td>Net cash provided by operating activities</td><td></td><td>15,345</td><td></td><td></td><td></td><td>2,911</td><td></td></tr><tr><td>Cash flows from investing activities:</td><td></td><td></td><td></td></tr><tr><td></td><td>Proceeds from maturities of marketable securities</td><td></td><td>4,004</td><td></td><td></td><td></td><td>2,512</td><td></td></tr><tr><td></td><td>Proceeds from sales of marketable securities</td><td></td><td>149</td><td></td><td></td><td></td><td>-</td><td></td></tr><tr><td></td><td>Purchases of marketable securities</td><td></td><td>(9,303</td><td>)</td><td></td><td></td><td>(2,801</td><td>)</td></tr><tr><td></td><td>Purchase related to property and equipment and intangible assets</td><td></td><td>(369</td><td>)</td><td></td><td></td><td>(248</td><td>)</td></tr><tr><td></td><td>Acquisitions, net of cash acquired</td><td></td><td>(39</td><td>)</td><td></td><td></td><td>(83</td><td>)</td></tr><tr><td></td><td>Investments in non-affiliated entities</td><td></td><td>(135</td><td>)</td><td></td><td></td><td>(221</td><td>)</td></tr><tr><td>Net cash used in investing activities</td><td></td><td>(5,693</td><td>)</td><td></td><td></td><td>(841</td><td>)</td></tr><tr><td>Cash flows from financing activities:</td><td></td><td></td><td></td></tr><tr><td></td><td>Proceeds related to employee stock plans</td><td></td><td>285</td><td></td><td></td><td></td><td>246</td><td></td></tr><tr><td></td><td>Payments related to repurchases of common stock</td><td></td><td>(7,740</td><td>)</td><td></td><td></td><td>-</td><td></td></tr><tr><td></td><td>Payments related to tax on restricted stock units</td><td></td><td>(1,752</td><td>)</td><td></td><td></td><td>(507</td><td>)</td></tr><tr><td></td><td>Dividends paid</td><td></td><td>(98</td><td>)</td><td></td><td></td><td>(99</td><td>)</td></tr><tr><td></td><td>Principal payments on property and equipment and intangible assets</td><td></td><td>(40</td><td>)</td><td></td><td></td><td>(20</td><td>)</td></tr><tr><td>Net cash used in financing activities</td><td></td><td>(9,345</td><td>)</td><td></td><td></td><td>(380</td><td>)</td></tr><tr><td>Change in cash and cash equivalents</td><td></td><td>307</td><td></td><td></td><td></td><td>1,690</td><td></td></tr><tr><td>Cash and cash equivalents at beginning of period</td><td></td><td>7,280</td><td></td><td></td><td></td><td>3,389</td><td></td></tr><tr><td>Cash and cash equivalents at end of period</td><td>$</td><td>7,587</td><td></td><td></td><td>$</td><td>5,079</td><td></td></tr><tr><td></td><td></td><td></td><td></td><td></td></tr></table>\n",
      "<table><tr><td>NVIDIA CORPORATION</td></tr><tr><td>RECONCILIATION OF GAAP TO NON-GAAP FINANCIAL MEASURES</td></tr><tr><td>(In millions, except per share data)</td></tr><tr><td>(Unaudited)</td></tr><tr><td></td><td></td><td></td><td></td><td></td><td></td><td></td><td></td><td></td><td></td><td></td><td></td><td></td><td></td></tr><tr><td></td><td></td><td></td><td>Three Months Ended</td></tr><tr><td></td><td></td><td></td><td>April 28,</td><td></td><td>January 28,</td><td></td><td>April 30,</td></tr><tr><td></td><td></td><td></td><td>2024</td><td></td><td>2024</td><td></td><td>2023</td></tr><tr><td></td><td></td><td></td><td></td><td></td><td></td><td></td><td></td><td></td><td></td><td></td><td></td><td></td><td></td></tr><tr><td>GAAP gross profit</td><td></td><td>$</td><td>20,406</td><td></td><td></td><td>$</td><td>16,791</td><td></td><td></td><td>$</td><td>4,648</td><td></td></tr><tr><td>GAAP gross margin</td><td></td><td></td><td>78.4 %</td><td></td><td></td><td></td><td>76.0 %</td><td></td><td></td><td></td><td>64.6 %</td><td></td></tr><tr><td></td><td>Acquisition-related and other costs (A)</td><td></td><td></td><td>119</td><td></td><td></td><td></td><td>119</td><td></td><td></td><td></td><td>119</td><td></td></tr><tr><td></td><td>Stock-based compensation expense (B)</td><td></td><td></td><td>36</td><td></td><td></td><td></td><td>45</td><td></td><td></td><td></td><td>27</td><td></td></tr><tr><td></td><td>Other (C)</td><td></td><td></td><td>(1</td><td>)</td><td></td><td></td><td>4</td><td></td><td></td><td></td><td>8</td><td></td></tr><tr><td>Non-GAAP gross profit</td><td></td><td>$</td><td>20,560</td><td></td><td></td><td>$</td><td>16,959</td><td></td><td></td><td>$</td><td>4,802</td><td></td></tr><tr><td>Non-GAAP gross margin</td><td></td><td></td><td>78.9 %</td><td></td><td></td><td></td><td>76.7 %</td><td></td><td></td><td></td><td>66.8 %</td><td></td></tr><tr><td></td><td></td><td></td><td></td><td></td><td></td><td></td><td></td><td></td><td></td><td></td><td></td><td></td><td></td></tr><tr><td>GAAP operating expenses</td><td></td><td>$</td><td>3,497</td><td></td><td></td><td>$</td><td>3,176</td><td></td><td></td><td>$</td><td>2,508</td><td></td></tr><tr><td></td><td>Stock-based compensation expense (B)</td><td></td><td></td><td>(975</td><td>)</td><td></td><td></td><td>(948</td><td>)</td><td></td><td></td><td>(708</td><td>)</td></tr><tr><td></td><td>Acquisition-related and other costs (A)</td><td></td><td></td><td>(21</td><td>)</td><td></td><td></td><td>(18</td><td>)</td><td></td><td></td><td>(54</td><td>)</td></tr><tr><td></td><td>Other (C)</td><td></td><td></td><td>-</td><td></td><td></td><td></td><td>-</td><td></td><td></td><td></td><td>4</td><td></td></tr><tr><td>Non-GAAP operating expenses</td><td></td><td>$</td><td>2,501</td><td></td><td></td><td>$</td><td>2,210</td><td></td><td></td><td>$</td><td>1,750</td><td></td></tr><tr><td></td><td></td><td></td><td></td><td></td><td></td><td></td><td></td><td></td><td></td><td></td><td></td><td></td><td></td></tr><tr><td>GAAP operating income</td><td></td><td>$</td><td>16,909</td><td></td><td></td><td>$</td><td>13,615</td><td></td><td></td><td>$</td><td>2,140</td><td></td></tr><tr><td></td><td>Total impact of non-GAAP adjustments to operating income</td><td></td><td></td><td>1,150</td><td></td><td></td><td></td><td>1,134</td><td></td><td></td><td></td><td>912</td><td></td></tr><tr><td>Non-GAAP operating income</td><td></td><td>$</td><td>18,059</td><td></td><td></td><td>$</td><td>14,749</td><td></td><td></td><td>$</td><td>3,052</td><td></td></tr><tr><td></td><td></td><td></td><td></td><td></td><td></td><td></td><td></td><td></td><td></td><td></td><td></td><td></td><td></td></tr><tr><td>GAAP other income (expense), net</td><td></td><td>$</td><td>370</td><td></td><td></td><td>$</td><td>491</td><td></td><td></td><td>$</td><td>69</td><td></td></tr><tr><td></td><td>(Gains) losses from non-affiliated investments</td><td></td><td></td><td>(69</td><td>)</td><td></td><td></td><td>(260</td><td>)</td><td></td><td></td><td>14</td><td></td></tr><tr><td></td><td>Interest expense related to amortization of debt discount</td><td></td><td></td><td>1</td><td></td><td></td><td></td><td>1</td><td></td><td></td><td></td><td>1</td><td></td></tr><tr><td>Non-GAAP other income (expense), net</td><td></td><td>$</td><td>302</td><td></td><td></td><td>$</td><td>232</td><td></td><td></td><td>$</td><td>84</td><td></td></tr><tr><td></td><td></td><td></td><td></td><td></td><td></td><td></td><td></td><td></td><td></td><td></td><td></td><td></td><td></td></tr><tr><td>GAAP net income</td><td></td><td>$</td><td>14,881</td><td></td><td></td><td>$</td><td>12,285</td><td></td><td></td><td>$</td><td>2,043</td><td></td></tr><tr><td></td><td>Total pre-tax impact of non-GAAP adjustments</td><td></td><td></td><td>1,082</td><td></td><td></td><td></td><td>875</td><td></td><td></td><td></td><td>927</td><td></td></tr><tr><td></td><td>Income tax impact of non-GAAP adjustments (D)</td><td></td><td></td><td>(725</td><td>)</td><td></td><td></td><td>(321</td><td>)</td><td></td><td></td><td>(257</td><td>)</td></tr><tr><td>Non-GAAP net income</td><td></td><td>$</td><td>15,238</td><td></td><td></td><td>$</td><td>12,839</td><td></td><td></td><td>$</td><td>2,713</td><td></td></tr><tr><td></td><td></td><td></td><td></td><td></td><td></td><td></td><td></td><td></td><td></td><td></td><td></td><td></td><td></td></tr><tr><td>Diluted net income per share</td><td></td><td></td><td></td><td></td><td></td><td></td><td></td><td></td><td></td><td></td><td></td><td></td></tr><tr><td></td><td>GAAP</td><td></td><td>$</td><td>5.98</td><td></td><td></td><td>$</td><td>4.93</td><td></td><td></td><td>$</td><td>0.82</td><td></td></tr><tr><td></td><td>Non-GAAP</td><td></td><td>$</td><td>6.12</td><td></td><td></td><td>$</td><td>5.16</td><td></td><td></td><td>$</td><td>1.09</td><td></td></tr><tr><td></td><td></td><td></td><td></td><td></td><td></td><td></td><td></td><td></td><td></td><td></td><td></td><td></td><td></td></tr><tr><td>Weighted average shares used in diluted net income per share computation</td><td></td><td></td><td>2,489</td><td></td><td></td><td></td><td>2,490</td><td></td><td></td><td></td><td>2,490</td><td></td></tr><tr><td></td><td></td><td></td><td></td><td></td><td></td><td></td><td></td><td></td><td></td><td></td><td></td><td></td><td></td></tr><tr><td>GAAP net cash provided by operating activities</td><td></td><td>$</td><td>15,345</td><td></td><td></td><td>$</td><td>11,499</td><td></td><td></td><td>$</td><td>2,911</td><td></td></tr><tr><td></td><td>Purchases related to property and equipment and intangible assets</td><td></td><td></td><td>(369</td><td>)</td><td></td><td></td><td>(253</td><td>)</td><td></td><td></td><td>(248</td><td>)</td></tr><tr><td></td><td>Principal payments on property and equipment and intangible assets</td><td></td><td></td><td>(40</td><td>)</td><td></td><td></td><td>(29</td><td>)</td><td></td><td></td><td>(20</td><td>)</td></tr><tr><td>Free cash flow</td><td></td><td>$</td><td>14,936</td><td></td><td></td><td>$</td><td>11,217</td><td></td><td></td><td>$</td><td>2,643</td><td></td></tr><tr><td></td><td></td><td></td><td></td><td></td><td></td><td></td><td></td><td></td><td></td><td></td><td></td><td></td><td></td></tr><tr><td></td><td></td><td></td><td></td><td></td><td></td><td></td><td></td><td></td><td></td><td></td><td></td><td></td><td></td></tr><tr><td></td><td></td><td></td><td></td><td></td><td></td><td></td><td></td><td></td><td></td><td></td><td></td><td></td><td></td></tr><tr><td>(A) Acquisition-related and other costs are comprised of amortization of intangible assets and transaction costs, and are included in the following line items:</td><td></td></tr><tr><td></td><td></td><td></td><td>Three Months Ended</td></tr><tr><td></td><td></td><td></td><td>April 28,</td><td></td><td>January 28,</td><td></td><td>April 30,</td></tr><tr><td></td><td></td><td></td><td>2024</td><td></td><td>2024</td><td></td><td>2023</td></tr><tr><td></td><td>Cost of revenue</td><td></td><td>$</td><td>119</td><td></td><td></td><td>$</td><td>119</td><td></td><td></td><td>$</td><td>119</td><td></td></tr><tr><td></td><td>Research and development</td><td></td><td>$</td><td>12</td><td></td><td></td><td>$</td><td>12</td><td></td><td></td><td>$</td><td>12</td><td></td></tr><tr><td></td><td>Sales, general and administrative</td><td></td><td>$</td><td>8</td><td></td><td></td><td>$</td><td>6</td><td></td><td></td><td>$</td><td>42</td><td></td></tr><tr><td></td><td></td><td></td><td></td><td></td><td></td><td></td><td></td><td></td><td></td><td></td><td></td><td></td><td></td></tr><tr><td>(B) Stock-based compensation consists of the following:</td><td></td><td></td><td></td><td></td><td></td><td></td><td></td><td></td><td></td><td></td><td></td><td></td></tr><tr><td></td><td></td><td></td><td>Three Months Ended</td></tr><tr><td></td><td></td><td></td><td>April 28,</td><td></td><td>January 28,</td><td></td><td>April 30,</td></tr><tr><td></td><td></td><td></td><td>2024</td><td></td><td>2024</td><td></td><td>2023</td></tr><tr><td></td><td>Cost of revenue</td><td></td><td>$</td><td>36</td><td></td><td></td><td>$</td><td>45</td><td></td><td></td><td>$</td><td>27</td><td></td></tr><tr><td></td><td>Research and development</td><td></td><td>$</td><td>727</td><td></td><td></td><td>$</td><td>706</td><td></td><td></td><td>$</td><td>524</td><td></td></tr><tr><td></td><td>Sales, general and administrative</td><td></td><td>$</td><td>248</td><td></td><td></td><td>$</td><td>242</td><td></td><td></td><td>$</td><td>184</td><td></td></tr><tr><td></td><td></td><td></td><td></td><td></td><td></td><td></td><td></td><td></td><td></td><td></td><td></td><td></td><td></td></tr><tr><td>(C) Other consists of IP-related costs and assets held for sale related adjustments.</td><td></td><td></td><td></td><td></td><td></td><td></td><td></td><td></td><td></td><td></td><td></td><td></td></tr><tr><td></td><td></td><td></td><td></td><td></td><td></td><td></td><td></td><td></td><td></td><td></td><td></td><td></td><td></td></tr><tr><td>(D) Income tax impact of non-GAAP adjustments, including the recognition of excess tax benefits or deficiencies related to stock-based compensation under GAAP accounting standard (ASU 2016-09).</td><td></td></tr><tr><td></td><td></td><td></td><td></td><td></td><td></td><td></td><td></td><td></td><td></td><td></td><td></td><td></td><td></td></tr></table>\n",
      "<table><tr><td>NVIDIA CORPORATION</td></tr><tr><td>RECONCILIATION OF GAAP TO NON-GAAP OUTLOOK</td></tr><tr><td></td><td></td><td></td></tr><tr><td></td></tr><tr><td></td><td></td><td>Q2 FY2025 Outlook</td></tr><tr><td></td><td></td><td>($ in millions)</td></tr><tr><td></td><td></td><td></td></tr><tr><td>GAAP gross margin</td><td></td><td>74.8</td><td>%</td></tr><tr><td></td><td>Impact of stock-based compensation expense, acquisition-related costs, and other costs</td><td></td><td>0.7</td><td>%</td></tr><tr><td>Non-GAAP gross margin</td><td></td><td>75.5</td><td>%</td></tr><tr><td></td><td></td><td></td></tr><tr><td>GAAP operating expenses</td><td>$</td><td>3,950</td><td></td></tr><tr><td></td><td>Stock-based compensation expense, acquisition-related costs, and other costs</td><td></td><td>(1,150</td><td>)</td></tr><tr><td>Non-GAAP operating expenses</td><td>$</td><td>2,800</td><td></td></tr><tr><td></td><td></td><td></td></tr></table>\n"
     ]
    }
   ],
   "source": [
    "# loop through the tables and extract html\n",
    "table_in_html = []\n",
    "for table in tables:\n",
    "    table_html = table.metadata.text_as_html\n",
    "    table_in_html.append(table_html)\n",
    "    print(table_html)"
   ]
  },
  {
   "cell_type": "markdown",
   "metadata": {},
   "source": [
    "Extract text from the html"
   ]
  },
  {
   "cell_type": "code",
   "execution_count": 8,
   "metadata": {},
   "outputs": [],
   "source": [
    "file_path = \"../docs/\"\n",
    "\n",
    "raw_html_elements = partition_html(\n",
    "    filename=file_path + \"nvidia_financial_results_q1_fiscal_2025.html\",\n",
    "    extract_images_in_pdf=False,\n",
    "    infer_table_structure=True,\n",
    "    chunking_strategy=\"by_title\",\n",
    "    max_characters=4000,\n",
    "    new_after_n_chars=3800,\n",
    "    combine_text_under_n_chars=2000,\n",
    "    image_output_dir_path=file_path,\n",
    ")"
   ]
  },
  {
   "cell_type": "code",
   "execution_count": 9,
   "metadata": {},
   "outputs": [
    {
     "name": "stdout",
     "output_type": "stream",
     "text": [
      "Text: 9\n"
     ]
    }
   ],
   "source": [
    "from pydantic import BaseModel\n",
    "from typing import Any\n",
    "\n",
    "class Element(BaseModel):\n",
    "    type: str\n",
    "    text: Any\n",
    "\n",
    "categorized_elements = []\n",
    "for element in raw_html_elements:\n",
    "    if \"unstructured.documents.elements.CompositeElement\" in str(type(element)):\n",
    "        categorized_elements.append(Element(type=\"text\", text=str(element)))\n",
    "\n",
    "# Text\n",
    "text_elements = [e for e in categorized_elements if e.type == \"text\"]\n",
    "print(\"Text:\", len(text_elements))"
   ]
  },
  {
   "cell_type": "markdown",
   "metadata": {},
   "source": [
    "Save the table text to the Vector store"
   ]
  },
  {
   "cell_type": "code",
   "execution_count": 10,
   "metadata": {},
   "outputs": [],
   "source": [
    "from langchain_community.vectorstores import Chroma\n",
    "from langchain_openai import ChatOpenAI, OpenAIEmbeddings\n",
    "from langchain import hub\n",
    "from langchain_core.runnables import RunnablePassthrough\n",
    "from langchain_core.output_parsers import StrOutputParser\n",
    "\n",
    "vectorstore = Chroma.from_texts(texts=table_in_html, \n",
    "                                    embedding=OpenAIEmbeddings())"
   ]
  },
  {
   "cell_type": "markdown",
   "metadata": {},
   "source": [
    "Save text to the Vector store"
   ]
  },
  {
   "cell_type": "code",
   "execution_count": 11,
   "metadata": {},
   "outputs": [
    {
     "data": {
      "text/plain": [
       "<coroutine object VectorStore.aadd_texts at 0x31f05a340>"
      ]
     },
     "execution_count": 11,
     "metadata": {},
     "output_type": "execute_result"
    }
   ],
   "source": [
    "# loop through the text and add to the vectorstore\n",
    "vectorstore.aadd_texts(text_elements, embedding=OpenAIEmbeddings())"
   ]
  },
  {
   "cell_type": "markdown",
   "metadata": {},
   "source": [
    "Test the table data retreaval from the Vector store"
   ]
  },
  {
   "cell_type": "code",
   "execution_count": 12,
   "metadata": {},
   "outputs": [],
   "source": [
    "retriever = vectorstore.as_retriever()"
   ]
  },
  {
   "cell_type": "code",
   "execution_count": 13,
   "metadata": {},
   "outputs": [
    {
     "data": {
      "text/plain": [
       "[Document(page_content='<table><tr><td></td></tr><tr><td>NVIDIA CORPORATION</td></tr><tr><td>CONDENSED CONSOLIDATED STATEMENTS OF INCOME</td></tr><tr><td>(In millions, except per share data)</td></tr><tr><td>(Unaudited)</td></tr><tr><td></td><td></td><td></td><td></td><td></td><td></td></tr><tr><td></td><td></td><td></td><td></td><td></td><td></td></tr><tr><td></td><td></td><td></td><td>Three Months Ended</td></tr><tr><td></td><td></td><td></td><td>April 28,</td><td></td><td>April 30,</td></tr><tr><td></td><td></td><td></td><td>2024</td><td></td><td>2023</td></tr><tr><td></td><td></td><td></td><td></td><td></td><td></td></tr><tr><td>Revenue</td><td>$</td><td>26,044</td><td></td><td></td><td>$</td><td>7,192</td><td></td></tr><tr><td>Cost of revenue</td><td></td><td>5,638</td><td></td><td></td><td></td><td>2,544</td><td></td></tr><tr><td>Gross profit</td><td></td><td>20,406</td><td></td><td></td><td></td><td>4,648</td><td></td></tr><tr><td></td><td></td><td></td><td></td><td></td><td></td></tr><tr><td>Operating expenses</td><td></td><td></td><td></td></tr><tr><td></td><td>Research and development</td><td></td><td>2,720</td><td></td><td></td><td></td><td>1,875</td><td></td></tr><tr><td></td><td>Sales, general and administrative</td><td></td><td>777</td><td></td><td></td><td></td><td>633</td><td></td></tr><tr><td></td><td></td><td>Total operating expenses</td><td></td><td>3,497</td><td></td><td></td><td></td><td>2,508</td><td></td></tr><tr><td></td><td></td><td></td><td></td><td></td><td></td></tr><tr><td>Operating Income</td><td></td><td>16,909</td><td></td><td></td><td></td><td>2,140</td><td></td></tr><tr><td></td><td>Interest income</td><td></td><td>359</td><td></td><td></td><td></td><td>150</td><td></td></tr><tr><td></td><td>Interest expense</td><td></td><td>(64</td><td>)</td><td></td><td></td><td>(66</td><td>)</td></tr><tr><td></td><td>Other, net</td><td></td><td>75</td><td></td><td></td><td></td><td>(15</td><td>)</td></tr><tr><td></td><td></td><td>Other income (expense), net</td><td></td><td>370</td><td></td><td></td><td></td><td>69</td><td></td></tr><tr><td></td><td></td><td></td><td></td><td></td><td></td></tr><tr><td>Income before income tax</td><td></td><td>17,279</td><td></td><td></td><td></td><td>2,209</td><td></td></tr><tr><td>Income tax expense</td><td></td><td>2,398</td><td></td><td></td><td></td><td>166</td><td></td></tr><tr><td>Net income</td><td>$</td><td>14,881</td><td></td><td></td><td>$</td><td>2,043</td><td></td></tr><tr><td></td><td></td><td></td><td></td><td></td><td></td></tr><tr><td>Net income per share:</td><td></td><td></td><td></td></tr><tr><td></td><td>Basic</td><td>$</td><td>6.04</td><td></td><td></td><td>$</td><td>0.83</td><td></td></tr><tr><td></td><td>Diluted</td><td>$</td><td>5.98</td><td></td><td></td><td>$</td><td>0.82</td><td></td></tr><tr><td></td><td></td><td></td><td></td><td></td><td></td></tr><tr><td>Weighted average shares used in per share computation:</td><td></td><td></td><td></td></tr><tr><td></td><td>Basic</td><td></td><td>2,462</td><td></td><td></td><td></td><td>2,470</td><td></td></tr><tr><td></td><td>Diluted</td><td></td><td>2,489</td><td></td><td></td><td></td><td>2,490</td><td></td></tr><tr><td></td><td></td><td></td><td></td><td></td><td></td></tr></table>'),\n",
       " Document(page_content='<table><tr><td>GAAP</td></tr><tr><td>($ in millions, except earnings per share)</td><td>Q1 FY25</td><td>Q4 FY24</td><td>Q1 FY24</td><td>Q/Q</td><td>Y/Y</td></tr><tr><td>Revenue</td><td>$26,044</td><td>$22,103</td><td>$7,192</td><td>Up 18%</td><td>Up 262%</td></tr><tr><td>Gross margin</td><td>78.4%</td><td>76.0%</td><td>64.6%</td><td>Up 2.4 pts</td><td>Up 13.8 pts</td></tr><tr><td>Operating expenses</td><td>$3,497</td><td>$3,176</td><td>$2,508</td><td>Up 10%</td><td>Up 39%</td></tr><tr><td>Operating income</td><td>$16,909</td><td>$13,615</td><td>$2,140</td><td>Up 24%</td><td>Up 690%</td></tr><tr><td>Net income</td><td>$14,881</td><td>$12,285</td><td>$2,043</td><td>Up 21%</td><td>Up 628%</td></tr><tr><td>Diluted earnings per share</td><td>$5.98</td><td>$4.93</td><td>$0.82</td><td>Up 21%</td><td>Up 629%</td></tr><tr><td></td><td></td><td></td><td></td><td></td><td></td></tr></table>'),\n",
       " Document(page_content='<table><tr><td>Non-GAAP</td></tr><tr><td>($ in millions, except earnings per share)</td><td>Q1 FY25</td><td>Q4 FY24</td><td>Q1 FY24</td><td>Q/Q</td><td>Y/Y</td></tr><tr><td>Revenue</td><td>$26,044</td><td>$22,103</td><td>$7,192</td><td>Up 18%</td><td>Up 262%</td></tr><tr><td>Gross margin</td><td>78.9%</td><td>76.7%</td><td>66.8%</td><td>Up 2.2 pts</td><td>Up 12.1 pts</td></tr><tr><td>Operating expenses</td><td>$2,501</td><td>$2,210</td><td>$1,750</td><td>Up 13%</td><td>Up 43%</td></tr><tr><td>Operating income</td><td>$18,059</td><td>$14,749</td><td>$3,052</td><td>Up 22%</td><td>Up 492%</td></tr><tr><td>Net income</td><td>$15,238</td><td>$12,839</td><td>$2,713</td><td>Up 19%</td><td>Up 462%</td></tr><tr><td>Diluted earnings per share</td><td>$6.12</td><td>$5.16</td><td>$1.09</td><td>Up 19%</td><td>Up 461%</td></tr><tr><td></td><td></td><td></td><td></td><td></td><td></td></tr></table>'),\n",
       " Document(page_content='<table><tr><td>NVIDIA CORPORATION</td></tr><tr><td>RECONCILIATION OF GAAP TO NON-GAAP FINANCIAL MEASURES</td></tr><tr><td>(In millions, except per share data)</td></tr><tr><td>(Unaudited)</td></tr><tr><td></td><td></td><td></td><td></td><td></td><td></td><td></td><td></td><td></td><td></td><td></td><td></td><td></td><td></td></tr><tr><td></td><td></td><td></td><td>Three Months Ended</td></tr><tr><td></td><td></td><td></td><td>April 28,</td><td></td><td>January 28,</td><td></td><td>April 30,</td></tr><tr><td></td><td></td><td></td><td>2024</td><td></td><td>2024</td><td></td><td>2023</td></tr><tr><td></td><td></td><td></td><td></td><td></td><td></td><td></td><td></td><td></td><td></td><td></td><td></td><td></td><td></td></tr><tr><td>GAAP gross profit</td><td></td><td>$</td><td>20,406</td><td></td><td></td><td>$</td><td>16,791</td><td></td><td></td><td>$</td><td>4,648</td><td></td></tr><tr><td>GAAP gross margin</td><td></td><td></td><td>78.4 %</td><td></td><td></td><td></td><td>76.0 %</td><td></td><td></td><td></td><td>64.6 %</td><td></td></tr><tr><td></td><td>Acquisition-related and other costs (A)</td><td></td><td></td><td>119</td><td></td><td></td><td></td><td>119</td><td></td><td></td><td></td><td>119</td><td></td></tr><tr><td></td><td>Stock-based compensation expense (B)</td><td></td><td></td><td>36</td><td></td><td></td><td></td><td>45</td><td></td><td></td><td></td><td>27</td><td></td></tr><tr><td></td><td>Other (C)</td><td></td><td></td><td>(1</td><td>)</td><td></td><td></td><td>4</td><td></td><td></td><td></td><td>8</td><td></td></tr><tr><td>Non-GAAP gross profit</td><td></td><td>$</td><td>20,560</td><td></td><td></td><td>$</td><td>16,959</td><td></td><td></td><td>$</td><td>4,802</td><td></td></tr><tr><td>Non-GAAP gross margin</td><td></td><td></td><td>78.9 %</td><td></td><td></td><td></td><td>76.7 %</td><td></td><td></td><td></td><td>66.8 %</td><td></td></tr><tr><td></td><td></td><td></td><td></td><td></td><td></td><td></td><td></td><td></td><td></td><td></td><td></td><td></td><td></td></tr><tr><td>GAAP operating expenses</td><td></td><td>$</td><td>3,497</td><td></td><td></td><td>$</td><td>3,176</td><td></td><td></td><td>$</td><td>2,508</td><td></td></tr><tr><td></td><td>Stock-based compensation expense (B)</td><td></td><td></td><td>(975</td><td>)</td><td></td><td></td><td>(948</td><td>)</td><td></td><td></td><td>(708</td><td>)</td></tr><tr><td></td><td>Acquisition-related and other costs (A)</td><td></td><td></td><td>(21</td><td>)</td><td></td><td></td><td>(18</td><td>)</td><td></td><td></td><td>(54</td><td>)</td></tr><tr><td></td><td>Other (C)</td><td></td><td></td><td>-</td><td></td><td></td><td></td><td>-</td><td></td><td></td><td></td><td>4</td><td></td></tr><tr><td>Non-GAAP operating expenses</td><td></td><td>$</td><td>2,501</td><td></td><td></td><td>$</td><td>2,210</td><td></td><td></td><td>$</td><td>1,750</td><td></td></tr><tr><td></td><td></td><td></td><td></td><td></td><td></td><td></td><td></td><td></td><td></td><td></td><td></td><td></td><td></td></tr><tr><td>GAAP operating income</td><td></td><td>$</td><td>16,909</td><td></td><td></td><td>$</td><td>13,615</td><td></td><td></td><td>$</td><td>2,140</td><td></td></tr><tr><td></td><td>Total impact of non-GAAP adjustments to operating income</td><td></td><td></td><td>1,150</td><td></td><td></td><td></td><td>1,134</td><td></td><td></td><td></td><td>912</td><td></td></tr><tr><td>Non-GAAP operating income</td><td></td><td>$</td><td>18,059</td><td></td><td></td><td>$</td><td>14,749</td><td></td><td></td><td>$</td><td>3,052</td><td></td></tr><tr><td></td><td></td><td></td><td></td><td></td><td></td><td></td><td></td><td></td><td></td><td></td><td></td><td></td><td></td></tr><tr><td>GAAP other income (expense), net</td><td></td><td>$</td><td>370</td><td></td><td></td><td>$</td><td>491</td><td></td><td></td><td>$</td><td>69</td><td></td></tr><tr><td></td><td>(Gains) losses from non-affiliated investments</td><td></td><td></td><td>(69</td><td>)</td><td></td><td></td><td>(260</td><td>)</td><td></td><td></td><td>14</td><td></td></tr><tr><td></td><td>Interest expense related to amortization of debt discount</td><td></td><td></td><td>1</td><td></td><td></td><td></td><td>1</td><td></td><td></td><td></td><td>1</td><td></td></tr><tr><td>Non-GAAP other income (expense), net</td><td></td><td>$</td><td>302</td><td></td><td></td><td>$</td><td>232</td><td></td><td></td><td>$</td><td>84</td><td></td></tr><tr><td></td><td></td><td></td><td></td><td></td><td></td><td></td><td></td><td></td><td></td><td></td><td></td><td></td><td></td></tr><tr><td>GAAP net income</td><td></td><td>$</td><td>14,881</td><td></td><td></td><td>$</td><td>12,285</td><td></td><td></td><td>$</td><td>2,043</td><td></td></tr><tr><td></td><td>Total pre-tax impact of non-GAAP adjustments</td><td></td><td></td><td>1,082</td><td></td><td></td><td></td><td>875</td><td></td><td></td><td></td><td>927</td><td></td></tr><tr><td></td><td>Income tax impact of non-GAAP adjustments (D)</td><td></td><td></td><td>(725</td><td>)</td><td></td><td></td><td>(321</td><td>)</td><td></td><td></td><td>(257</td><td>)</td></tr><tr><td>Non-GAAP net income</td><td></td><td>$</td><td>15,238</td><td></td><td></td><td>$</td><td>12,839</td><td></td><td></td><td>$</td><td>2,713</td><td></td></tr><tr><td></td><td></td><td></td><td></td><td></td><td></td><td></td><td></td><td></td><td></td><td></td><td></td><td></td><td></td></tr><tr><td>Diluted net income per share</td><td></td><td></td><td></td><td></td><td></td><td></td><td></td><td></td><td></td><td></td><td></td><td></td></tr><tr><td></td><td>GAAP</td><td></td><td>$</td><td>5.98</td><td></td><td></td><td>$</td><td>4.93</td><td></td><td></td><td>$</td><td>0.82</td><td></td></tr><tr><td></td><td>Non-GAAP</td><td></td><td>$</td><td>6.12</td><td></td><td></td><td>$</td><td>5.16</td><td></td><td></td><td>$</td><td>1.09</td><td></td></tr><tr><td></td><td></td><td></td><td></td><td></td><td></td><td></td><td></td><td></td><td></td><td></td><td></td><td></td><td></td></tr><tr><td>Weighted average shares used in diluted net income per share computation</td><td></td><td></td><td>2,489</td><td></td><td></td><td></td><td>2,490</td><td></td><td></td><td></td><td>2,490</td><td></td></tr><tr><td></td><td></td><td></td><td></td><td></td><td></td><td></td><td></td><td></td><td></td><td></td><td></td><td></td><td></td></tr><tr><td>GAAP net cash provided by operating activities</td><td></td><td>$</td><td>15,345</td><td></td><td></td><td>$</td><td>11,499</td><td></td><td></td><td>$</td><td>2,911</td><td></td></tr><tr><td></td><td>Purchases related to property and equipment and intangible assets</td><td></td><td></td><td>(369</td><td>)</td><td></td><td></td><td>(253</td><td>)</td><td></td><td></td><td>(248</td><td>)</td></tr><tr><td></td><td>Principal payments on property and equipment and intangible assets</td><td></td><td></td><td>(40</td><td>)</td><td></td><td></td><td>(29</td><td>)</td><td></td><td></td><td>(20</td><td>)</td></tr><tr><td>Free cash flow</td><td></td><td>$</td><td>14,936</td><td></td><td></td><td>$</td><td>11,217</td><td></td><td></td><td>$</td><td>2,643</td><td></td></tr><tr><td></td><td></td><td></td><td></td><td></td><td></td><td></td><td></td><td></td><td></td><td></td><td></td><td></td><td></td></tr><tr><td></td><td></td><td></td><td></td><td></td><td></td><td></td><td></td><td></td><td></td><td></td><td></td><td></td><td></td></tr><tr><td></td><td></td><td></td><td></td><td></td><td></td><td></td><td></td><td></td><td></td><td></td><td></td><td></td><td></td></tr><tr><td>(A) Acquisition-related and other costs are comprised of amortization of intangible assets and transaction costs, and are included in the following line items:</td><td></td></tr><tr><td></td><td></td><td></td><td>Three Months Ended</td></tr><tr><td></td><td></td><td></td><td>April 28,</td><td></td><td>January 28,</td><td></td><td>April 30,</td></tr><tr><td></td><td></td><td></td><td>2024</td><td></td><td>2024</td><td></td><td>2023</td></tr><tr><td></td><td>Cost of revenue</td><td></td><td>$</td><td>119</td><td></td><td></td><td>$</td><td>119</td><td></td><td></td><td>$</td><td>119</td><td></td></tr><tr><td></td><td>Research and development</td><td></td><td>$</td><td>12</td><td></td><td></td><td>$</td><td>12</td><td></td><td></td><td>$</td><td>12</td><td></td></tr><tr><td></td><td>Sales, general and administrative</td><td></td><td>$</td><td>8</td><td></td><td></td><td>$</td><td>6</td><td></td><td></td><td>$</td><td>42</td><td></td></tr><tr><td></td><td></td><td></td><td></td><td></td><td></td><td></td><td></td><td></td><td></td><td></td><td></td><td></td><td></td></tr><tr><td>(B) Stock-based compensation consists of the following:</td><td></td><td></td><td></td><td></td><td></td><td></td><td></td><td></td><td></td><td></td><td></td><td></td></tr><tr><td></td><td></td><td></td><td>Three Months Ended</td></tr><tr><td></td><td></td><td></td><td>April 28,</td><td></td><td>January 28,</td><td></td><td>April 30,</td></tr><tr><td></td><td></td><td></td><td>2024</td><td></td><td>2024</td><td></td><td>2023</td></tr><tr><td></td><td>Cost of revenue</td><td></td><td>$</td><td>36</td><td></td><td></td><td>$</td><td>45</td><td></td><td></td><td>$</td><td>27</td><td></td></tr><tr><td></td><td>Research and development</td><td></td><td>$</td><td>727</td><td></td><td></td><td>$</td><td>706</td><td></td><td></td><td>$</td><td>524</td><td></td></tr><tr><td></td><td>Sales, general and administrative</td><td></td><td>$</td><td>248</td><td></td><td></td><td>$</td><td>242</td><td></td><td></td><td>$</td><td>184</td><td></td></tr><tr><td></td><td></td><td></td><td></td><td></td><td></td><td></td><td></td><td></td><td></td><td></td><td></td><td></td><td></td></tr><tr><td>(C) Other consists of IP-related costs and assets held for sale related adjustments.</td><td></td><td></td><td></td><td></td><td></td><td></td><td></td><td></td><td></td><td></td><td></td><td></td></tr><tr><td></td><td></td><td></td><td></td><td></td><td></td><td></td><td></td><td></td><td></td><td></td><td></td><td></td><td></td></tr><tr><td>(D) Income tax impact of non-GAAP adjustments, including the recognition of excess tax benefits or deficiencies related to stock-based compensation under GAAP accounting standard (ASU 2016-09).</td><td></td></tr><tr><td></td><td></td><td></td><td></td><td></td><td></td><td></td><td></td><td></td><td></td><td></td><td></td><td></td><td></td></tr></table>')]"
      ]
     },
     "execution_count": 13,
     "metadata": {},
     "output_type": "execute_result"
    }
   ],
   "source": [
    "retriever.invoke(\"Whats the basic net income per share for the three months ended April 28, 2024?\")"
   ]
  },
  {
   "cell_type": "markdown",
   "metadata": {},
   "source": [
    "Test the text data retreaval"
   ]
  },
  {
   "cell_type": "code",
   "execution_count": 15,
   "metadata": {},
   "outputs": [
    {
     "data": {
      "text/plain": [
       "[Document(page_content='<table><tr><td>NVIDIA CORPORATION</td><td></td></tr><tr><td>CONDENSED CONSOLIDATED BALANCE SHEETS</td><td></td></tr><tr><td>(In millions)</td><td></td></tr><tr><td>(Unaudited)</td><td></td></tr><tr><td></td><td></td><td></td><td></td><td></td><td></td><td></td><td></td></tr><tr><td></td><td></td><td></td><td></td><td></td><td></td><td></td><td></td></tr><tr><td></td><td></td><td></td><td></td><td>April 28,</td><td></td><td>January 28,</td><td></td></tr><tr><td></td><td></td><td></td><td></td><td>2024</td><td></td><td>2024</td><td></td></tr><tr><td>ASSETS</td><td></td><td></td><td></td><td></td><td></td></tr><tr><td></td><td></td><td></td><td></td><td></td><td></td><td></td><td></td></tr><tr><td>Current assets:</td><td></td><td></td><td></td><td></td><td></td></tr><tr><td></td><td>Cash, cash equivalents and marketable securities</td><td></td><td>$</td><td>31,438</td><td></td><td>$</td><td>25,984</td><td></td></tr><tr><td></td><td>Accounts receivable, net</td><td></td><td></td><td>12,365</td><td></td><td></td><td>9,999</td><td></td></tr><tr><td></td><td>Inventories</td><td></td><td></td><td>5,864</td><td></td><td></td><td>5,282</td><td></td></tr><tr><td></td><td>Prepaid expenses and other current assets</td><td></td><td></td><td>4,062</td><td></td><td></td><td>3,080</td><td></td></tr><tr><td></td><td></td><td>Total current assets</td><td></td><td></td><td>53,729</td><td></td><td></td><td>44,345</td><td></td></tr><tr><td></td><td></td><td></td><td></td><td></td><td></td><td></td><td></td></tr><tr><td>Property and equipment, net</td><td></td><td></td><td>4,006</td><td></td><td></td><td>3,914</td><td></td></tr><tr><td>Operating lease assets</td><td></td><td></td><td>1,532</td><td></td><td></td><td>1,346</td><td></td></tr><tr><td>Goodwill</td><td></td><td></td><td>4,453</td><td></td><td></td><td>4,430</td><td></td></tr><tr><td>Intangible assets, net</td><td></td><td></td><td>986</td><td></td><td></td><td>1,112</td><td></td></tr><tr><td>Deferred income tax assets</td><td></td><td></td><td>7,798</td><td></td><td></td><td>6,081</td><td></td></tr><tr><td>Other assets</td><td></td><td></td><td>4,568</td><td></td><td></td><td>4,500</td><td></td></tr><tr><td></td><td></td><td>Total assets</td><td></td><td>$</td><td>77,072</td><td></td><td>$</td><td>65,728</td><td></td></tr><tr><td></td><td></td><td></td><td></td><td></td><td></td><td></td><td></td></tr><tr><td>LIABILITIES AND SHAREHOLDERS&#x27; EQUITY</td><td></td></tr><tr><td></td><td></td><td></td><td></td><td></td><td></td><td></td><td></td></tr><tr><td>Current liabilities:</td><td></td><td></td><td></td><td></td><td></td></tr><tr><td></td><td>Accounts payable</td><td></td><td>$</td><td>2,715</td><td></td><td>$</td><td>2,699</td><td></td></tr><tr><td></td><td>Accrued and other current liabilities</td><td></td><td></td><td>11,258</td><td></td><td></td><td>6,682</td><td></td></tr><tr><td></td><td>Short-term debt</td><td></td><td></td><td>1,250</td><td></td><td></td><td>1,250</td><td></td></tr><tr><td></td><td></td><td>Total current liabilities</td><td></td><td></td><td>15,223</td><td></td><td></td><td>10,631</td><td></td></tr><tr><td></td><td></td><td></td><td></td><td></td><td></td><td></td><td></td></tr><tr><td>Long-term debt</td><td></td><td></td><td>8,460</td><td></td><td></td><td>8,459</td><td></td></tr><tr><td>Long-term operating lease liabilities</td><td></td><td></td><td>1,281</td><td></td><td></td><td>1,119</td><td></td></tr><tr><td>Other long-term liabilities</td><td></td><td></td><td>2,966</td><td></td><td></td><td>2,541</td><td></td></tr><tr><td></td><td></td><td>Total liabilities</td><td></td><td></td><td>27,930</td><td></td><td></td><td>22,750</td><td></td></tr><tr><td></td><td></td><td></td><td></td><td></td><td></td><td></td><td></td></tr><tr><td>Shareholders&#x27; equity</td><td></td><td></td><td>49,142</td><td></td><td></td><td>42,978</td><td></td></tr><tr><td></td><td></td><td>Total liabilities and shareholders&#x27; equity</td><td></td><td>$</td><td>77,072</td><td></td><td>$</td><td>65,728</td><td></td></tr><tr><td></td><td></td><td></td><td></td><td></td><td></td><td></td><td></td></tr></table>'),\n",
       " Document(page_content='<table><tr><td>GAAP</td></tr><tr><td>($ in millions, except earnings per share)</td><td>Q1 FY25</td><td>Q4 FY24</td><td>Q1 FY24</td><td>Q/Q</td><td>Y/Y</td></tr><tr><td>Revenue</td><td>$26,044</td><td>$22,103</td><td>$7,192</td><td>Up 18%</td><td>Up 262%</td></tr><tr><td>Gross margin</td><td>78.4%</td><td>76.0%</td><td>64.6%</td><td>Up 2.4 pts</td><td>Up 13.8 pts</td></tr><tr><td>Operating expenses</td><td>$3,497</td><td>$3,176</td><td>$2,508</td><td>Up 10%</td><td>Up 39%</td></tr><tr><td>Operating income</td><td>$16,909</td><td>$13,615</td><td>$2,140</td><td>Up 24%</td><td>Up 690%</td></tr><tr><td>Net income</td><td>$14,881</td><td>$12,285</td><td>$2,043</td><td>Up 21%</td><td>Up 628%</td></tr><tr><td>Diluted earnings per share</td><td>$5.98</td><td>$4.93</td><td>$0.82</td><td>Up 21%</td><td>Up 629%</td></tr><tr><td></td><td></td><td></td><td></td><td></td><td></td></tr></table>'),\n",
       " Document(page_content='<table><tr><td>Non-GAAP</td></tr><tr><td>($ in millions, except earnings per share)</td><td>Q1 FY25</td><td>Q4 FY24</td><td>Q1 FY24</td><td>Q/Q</td><td>Y/Y</td></tr><tr><td>Revenue</td><td>$26,044</td><td>$22,103</td><td>$7,192</td><td>Up 18%</td><td>Up 262%</td></tr><tr><td>Gross margin</td><td>78.9%</td><td>76.7%</td><td>66.8%</td><td>Up 2.2 pts</td><td>Up 12.1 pts</td></tr><tr><td>Operating expenses</td><td>$2,501</td><td>$2,210</td><td>$1,750</td><td>Up 13%</td><td>Up 43%</td></tr><tr><td>Operating income</td><td>$18,059</td><td>$14,749</td><td>$3,052</td><td>Up 22%</td><td>Up 492%</td></tr><tr><td>Net income</td><td>$15,238</td><td>$12,839</td><td>$2,713</td><td>Up 19%</td><td>Up 462%</td></tr><tr><td>Diluted earnings per share</td><td>$6.12</td><td>$5.16</td><td>$1.09</td><td>Up 19%</td><td>Up 461%</td></tr><tr><td></td><td></td><td></td><td></td><td></td><td></td></tr></table>'),\n",
       " Document(page_content='<table><tr><td>NVIDIA CORPORATION</td></tr><tr><td>RECONCILIATION OF GAAP TO NON-GAAP OUTLOOK</td></tr><tr><td></td><td></td><td></td></tr><tr><td></td></tr><tr><td></td><td></td><td>Q2 FY2025 Outlook</td></tr><tr><td></td><td></td><td>($ in millions)</td></tr><tr><td></td><td></td><td></td></tr><tr><td>GAAP gross margin</td><td></td><td>74.8</td><td>%</td></tr><tr><td></td><td>Impact of stock-based compensation expense, acquisition-related costs, and other costs</td><td></td><td>0.7</td><td>%</td></tr><tr><td>Non-GAAP gross margin</td><td></td><td>75.5</td><td>%</td></tr><tr><td></td><td></td><td></td></tr><tr><td>GAAP operating expenses</td><td>$</td><td>3,950</td><td></td></tr><tr><td></td><td>Stock-based compensation expense, acquisition-related costs, and other costs</td><td></td><td>(1,150</td><td>)</td></tr><tr><td>Non-GAAP operating expenses</td><td>$</td><td>2,800</td><td></td></tr><tr><td></td><td></td><td></td></tr></table>')]"
      ]
     },
     "execution_count": 15,
     "metadata": {},
     "output_type": "execute_result"
    }
   ],
   "source": [
    "retriever.invoke(\"`whats the next industrial revolution?\")"
   ]
  },
  {
   "cell_type": "markdown",
   "metadata": {},
   "source": [
    "RAG Impl"
   ]
  },
  {
   "cell_type": "code",
   "execution_count": 16,
   "metadata": {},
   "outputs": [],
   "source": [
    "# Prompt\n",
    "prompt = hub.pull(\"rlm/rag-prompt\")\n",
    "\n",
    "# LLM\n",
    "llm = ChatOpenAI(model_name=\"gpt-4o\", temperature=0)\n",
    "\n",
    "# Post-processing\n",
    "def format_docs(docs):\n",
    "    return \"\\n\\n\".join(doc.page_content for doc in docs)\n",
    "\n",
    "# Chain\n",
    "rag_chain = (\n",
    "    {\"context\": retriever | format_docs, \"question\": RunnablePassthrough()}\n",
    "    | prompt\n",
    "    | llm\n",
    "    | StrOutputParser()\n",
    ")"
   ]
  },
  {
   "cell_type": "markdown",
   "metadata": {},
   "source": [
    "Test for table data"
   ]
  },
  {
   "cell_type": "code",
   "execution_count": 17,
   "metadata": {},
   "outputs": [
    {
     "data": {
      "text/plain": [
       "'The basic net income per share for the three months ended April 28, 2024, is $6.04.'"
      ]
     },
     "execution_count": 17,
     "metadata": {},
     "output_type": "execute_result"
    }
   ],
   "source": [
    "rag_chain.invoke(\"Whats the basic net income per share for the three months ended April 28, 2024?\")"
   ]
  },
  {
   "cell_type": "markdown",
   "metadata": {},
   "source": [
    "Test for text data"
   ]
  },
  {
   "cell_type": "code",
   "execution_count": 19,
   "metadata": {},
   "outputs": [
    {
     "data": {
      "text/plain": [
       "'The next industrial revolution is often referred to as Industry 4.0. It involves the integration of digital technologies such as artificial intelligence, the Internet of Things (IoT), and advanced robotics into manufacturing and industrial processes. This revolution aims to create smart factories with increased automation, data exchange, and real-time monitoring.'"
      ]
     },
     "execution_count": 19,
     "metadata": {},
     "output_type": "execute_result"
    }
   ],
   "source": [
    "rag_chain.invoke(\"whats the next industrial revolution?\")"
   ]
  }
 ],
 "metadata": {
  "kernelspec": {
   "display_name": ".venv",
   "language": "python",
   "name": "python3"
  },
  "language_info": {
   "codemirror_mode": {
    "name": "ipython",
    "version": 3
   },
   "file_extension": ".py",
   "mimetype": "text/x-python",
   "name": "python",
   "nbconvert_exporter": "python",
   "pygments_lexer": "ipython3",
   "version": "3.11.6"
  }
 },
 "nbformat": 4,
 "nbformat_minor": 2
}
